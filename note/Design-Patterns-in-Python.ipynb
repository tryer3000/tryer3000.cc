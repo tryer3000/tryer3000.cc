{
 "cells": [
  {
   "cell_type": "markdown",
   "metadata": {
    "slideshow": {
     "slide_type": "slide"
    }
   },
   "source": [
    "# Design Patterns in Python\n",
    "### A Short Introduction By Duan Yi Bin"
   ]
  },
  {
   "cell_type": "markdown",
   "metadata": {
    "slideshow": {
     "slide_type": "slide"
    }
   },
   "source": [
    "## When we talk about design pattern, we are talking about\n",
    "* OOP paradigm\n",
    "* reusability"
   ]
  },
  {
   "cell_type": "markdown",
   "metadata": {
    "slideshow": {
     "slide_type": "slide"
    }
   },
   "source": [
    "## Singleton"
   ]
  },
  {
   "cell_type": "markdown",
   "metadata": {
    "slideshow": {
     "slide_type": "fragment"
    }
   },
   "source": [
    "## Why singleton\n",
    "\n",
    "** There is only one sun in the sky. **\n",
    "\n",
    "** Singleton is created to simulate/enforce this uniqueness in program **\n",
    "\n",
    "![singleton UML](http://www.oodesign.com/images/design_patterns/creational/singleton_implementation_-_uml_class_diagram.gif)"
   ]
  },
  {
   "cell_type": "markdown",
   "metadata": {
    "slideshow": {
     "slide_type": "slide"
    }
   },
   "source": [
    "## Singleton Example in python\n",
    "* None\n",
    "* Ellipsis\n",
    "* NotImplemented"
   ]
  },
  {
   "cell_type": "code",
   "execution_count": 4,
   "metadata": {
    "slideshow": {
     "slide_type": "fragment"
    }
   },
   "outputs": [
    {
     "name": "stdout",
     "output_type": "stream",
     "text": [
      "<class 'NoneType'>\n",
      "id of x: 8931232\n",
      "id of None: 8931232\n"
     ]
    }
   ],
   "source": [
    "print(type(None))\n",
    "x = type(None)()\n",
    "print(\"id of x:\", id(x))\n",
    "print(\"id of None:\", id(None))"
   ]
  },
  {
   "cell_type": "code",
   "execution_count": 9,
   "metadata": {
    "slideshow": {
     "slide_type": "slide"
    }
   },
   "outputs": [
    {
     "name": "stdout",
     "output_type": "stream",
     "text": [
      "A simple singleton impl in python\n",
      "o1.val 2\n",
      "o2.val 2\n",
      "id of o1: 139982487164520\n",
      "same with id of o2: 139982487164520 \n",
      "\n",
      "\n",
      "Two other interesting ways to define singleton:\n",
      "* using class decorator\n",
      "* using metaclasses\n"
     ]
    }
   ],
   "source": [
    "print('A simple singleton impl in python')\n",
    "\n",
    "class SingleTone(object):\n",
    "    _instance = None\n",
    "    def __new__(cls, val):\n",
    "        if SingleTone._instance is None:\n",
    "            SingleTone._instance = object.__new__(cls)\n",
    "        SingleTone._instance.val = val\n",
    "        return SingleTone._instance\n",
    "\n",
    "o1 = SingleTone(3)\n",
    "o2 = SingleTone(2)\n",
    "\n",
    "print(\"o1.val\", o1.val)\n",
    "print(\"o2.val\", o2.val)\n",
    "print(\"id of o1:\", id(o1))\n",
    "print(\"same with id of o2:\", id(o2))"
   ]
  },
  {
   "cell_type": "markdown",
   "metadata": {
    "slideshow": {
     "slide_type": "slide"
    }
   },
   "source": [
    "## Two other interesting ways to define singleton:\n",
    "* using class decorator\n",
    "* using metaclasses\n"
   ]
  },
  {
   "cell_type": "code",
   "execution_count": 11,
   "metadata": {
    "slideshow": {
     "slide_type": "slide"
    }
   },
   "outputs": [
    {
     "name": "stdout",
     "output_type": "stream",
     "text": [
      "rm1: Running\n",
      "rm2: Running\n",
      "rm1: Zombie\n",
      "rm2: Zombie\n",
      "rm1 id: 139982496053568\n",
      "rm2 id: 139982496053960\n",
      "rm1: Init\n",
      "rm2: Init\n",
      "rm3: Init\n"
     ]
    }
   ],
   "source": [
    "# Borg: a singleton with shared-state among instances\n",
    "# the focus is on sharing state instead of sharing instance identity.\n",
    "class Borg(object):\n",
    "    __shared_state = {}\n",
    "\n",
    "    def __init__(self):\n",
    "        self.__dict__ = self.__shared_state\n",
    "        self.state = 'Init'\n",
    "\n",
    "    def __str__(self):\n",
    "        return self.state\n",
    "\n",
    "\n",
    "class YourBorg(Borg):\n",
    "    pass\n",
    "\n",
    "\n",
    "\n",
    "rm1 = Borg()\n",
    "rm2 = Borg()\n",
    "\n",
    "rm1.state = 'Idle'\n",
    "rm2.state = 'Running'\n",
    "\n",
    "print('rm1: {0}'.format(rm1))\n",
    "print('rm2: {0}'.format(rm2))\n",
    "\n",
    "rm2.state = 'Zombie'\n",
    "\n",
    "print('rm1: {0}'.format(rm1))\n",
    "print('rm2: {0}'.format(rm2))\n",
    "\n",
    "print('rm1 id: {0}'.format(id(rm1)))\n",
    "print('rm2 id: {0}'.format(id(rm2)))\n",
    "\n",
    "rm3 = YourBorg()\n",
    "\n",
    "print('rm1: {0}'.format(rm1))\n",
    "print('rm2: {0}'.format(rm2))\n",
    "print('rm3: {0}'.format(rm3))"
   ]
  },
  {
   "cell_type": "markdown",
   "metadata": {
    "slideshow": {
     "slide_type": "slide"
    }
   },
   "source": [
    "## Proxy(Surrogate)"
   ]
  },
  {
   "cell_type": "markdown",
   "metadata": {
    "slideshow": {
     "slide_type": "fragment"
    }
   },
   "source": [
    "### Why\n",
    "\n",
    "* create expensive objects on demand\n",
    "* provide a local representative for an object in a different address space\n",
    "* control access to the original object\n",
    "* perform additional action when an object is accessed.(smart pointers, resource lock)\n"
   ]
  },
  {
   "cell_type": "markdown",
   "metadata": {
    "slideshow": {
     "slide_type": "slide"
    }
   },
   "source": [
    "## So a proxy is an object funnels operations to something else\n",
    "![proxy pattern UML](http://www.oodesign.com/images/design_patterns/structural/proxy-design-pattern-implementation-uml-class-diagram.png)"
   ]
  },
  {
   "cell_type": "code",
   "execution_count": 2,
   "metadata": {
    "slideshow": {
     "slide_type": "slide"
    }
   },
   "outputs": [
    {
     "name": "stdout",
     "output_type": "stream",
     "text": [
      "Implementation.f()\n",
      "Implementation.g()\n",
      "Implementation.h()\n"
     ]
    }
   ],
   "source": [
    "# A generic proxy enabled by python built-in `__getattr__` magic method.\n",
    "class Implementation(object):\n",
    "    def f(self):\n",
    "        print(\"Implementation.f()\")\n",
    "    def g(self):\n",
    "        print(\"Implementation.g()\")\n",
    "    def h(self):\n",
    "        print(\"Implementation.h()\")\n",
    "\n",
    "class Proxy(object):\n",
    "    def __init__(self):\n",
    "        self.__implementation = Implementation()\n",
    "    def __getattr__(self, name):\n",
    "        return getattr(self.__implementation, name)\n",
    "\n",
    "p = Proxy()\n",
    "p.f()\n",
    "p.g()\n",
    "p.h()"
   ]
  },
  {
   "cell_type": "markdown",
   "metadata": {
    "slideshow": {
     "slide_type": "slide"
    }
   },
   "source": [
    "## Proxy Example in Python\n",
    "* `super()` Return a proxy object that delegates method calls to a parent or sibling class of type\n",
    "* `current_app`, `request`, `g` in flask package\n",
    "* `weakref.proxy(object)` Return a proxy to object which uses a weak reference."
   ]
  },
  {
   "cell_type": "markdown",
   "metadata": {
    "slideshow": {
     "slide_type": "slide"
    }
   },
   "source": [
    "### Iterator"
   ]
  }
 ],
 "metadata": {
  "celltoolbar": "Slideshow",
  "kernelspec": {
   "display_name": "Python 3",
   "language": "python",
   "name": "python3"
  },
  "language_info": {
   "codemirror_mode": {
    "name": "ipython",
    "version": 3
   },
   "file_extension": ".py",
   "mimetype": "text/x-python",
   "name": "python",
   "nbconvert_exporter": "python",
   "pygments_lexer": "ipython3",
   "version": "3.6.4"
  }
 },
 "nbformat": 4,
 "nbformat_minor": 2
}
